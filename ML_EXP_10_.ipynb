{
  "nbformat": 4,
  "nbformat_minor": 0,
  "metadata": {
    "colab": {
      "provenance": [],
      "authorship_tag": "ABX9TyOJisQG7ppwktRhEH1aOdVP",
      "include_colab_link": true
    },
    "kernelspec": {
      "name": "python3",
      "display_name": "Python 3"
    },
    "language_info": {
      "name": "python"
    }
  },
  "cells": [
    {
      "cell_type": "markdown",
      "metadata": {
        "id": "view-in-github",
        "colab_type": "text"
      },
      "source": [
        "<a href=\"https://colab.research.google.com/github/LokeshPanuganti15/ML/blob/main/ML_EXP_10_.ipynb\" target=\"_parent\"><img src=\"https://colab.research.google.com/assets/colab-badge.svg\" alt=\"Open In Colab\"/></a>"
      ]
    },
    {
      "cell_type": "code",
      "execution_count": null,
      "metadata": {
        "colab": {
          "base_uri": "https://localhost:8080/"
        },
        "id": "Z3-sWMpzrt8T",
        "outputId": "3b1dfc70-dc11-4d1e-81f6-a809a9ee0864"
      },
      "outputs": [
        {
          "output_type": "stream",
          "name": "stdout",
          "text": [
            "Model Accuracy: 0.9555555555555556\n",
            "\n",
            "Decision Tree Rules:\n",
            " |--- petal length (cm) <= 2.60\n",
            "|   |--- class: setosa\n",
            "|--- petal length (cm) >  2.60\n",
            "|   |--- petal width (cm) <= 1.65\n",
            "|   |   |--- petal length (cm) <= 5.00\n",
            "|   |   |   |--- class: versicolor\n",
            "|   |   |--- petal length (cm) >  5.00\n",
            "|   |   |   |--- sepal length (cm) <= 6.05\n",
            "|   |   |   |   |--- class: versicolor\n",
            "|   |   |   |--- sepal length (cm) >  6.05\n",
            "|   |   |   |   |--- class: virginica\n",
            "|   |--- petal width (cm) >  1.65\n",
            "|   |   |--- petal length (cm) <= 4.85\n",
            "|   |   |   |--- sepal width (cm) <= 3.10\n",
            "|   |   |   |   |--- class: virginica\n",
            "|   |   |   |--- sepal width (cm) >  3.10\n",
            "|   |   |   |   |--- class: versicolor\n",
            "|   |   |--- petal length (cm) >  4.85\n",
            "|   |   |   |--- class: virginica\n",
            "\n"
          ]
        }
      ],
      "source": [
        "# Import necessary libraries\n",
        "import pandas as pd\n",
        "from sklearn.datasets import load_iris\n",
        "from sklearn.tree import DecisionTreeClassifier, export_text\n",
        "from sklearn.model_selection import train_test_split\n",
        "from sklearn import metrics\n",
        "\n",
        "# Load the Iris dataset\n",
        "iris = load_iris()\n",
        "\n",
        "# Convert dataset to pandas DataFrame\n",
        "data = pd.DataFrame(data=iris.data, columns=iris.feature_names)\n",
        "data['Species'] = iris.target\n",
        "\n",
        "# Map numeric target to species names\n",
        "target_dict = {0: 'setosa', 1: 'versicolor', 2: 'virginica'}\n",
        "data['Species'] = data['Species'].map(target_dict)\n",
        "\n",
        "# Prepare features and target variable\n",
        "X = data[iris.feature_names]  # Features\n",
        "y = data['Species']           # Target variable\n",
        "\n",
        "# Split the data into training and testing sets\n",
        "X_train, X_test, y_train, y_test = train_test_split(X, y, test_size=0.3, random_state=1)\n",
        "\n",
        "# Create a Decision Tree classifier object\n",
        "clf = DecisionTreeClassifier()\n",
        "\n",
        "# Train the classifier\n",
        "clf = clf.fit(X_train, y_train)\n",
        "\n",
        "# Predict the response for the test dataset\n",
        "y_pred = clf.predict(X_test)\n",
        "\n",
        "# Evaluate the model's accuracy\n",
        "accuracy = metrics.accuracy_score(y_test, y_pred)\n",
        "print(\"Model Accuracy:\", accuracy)\n",
        "\n",
        "# Visualize the decision tree rules\n",
        "tree_rules = export_text(clf, feature_names=iris.feature_names)\n",
        "print(\"\\nDecision Tree Rules:\\n\", tree_rules)\n"
      ]
    }
  ]
}